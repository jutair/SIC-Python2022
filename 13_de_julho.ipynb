{
 "cells": [
  {
   "cell_type": "code",
   "execution_count": 23,
   "metadata": {},
   "outputs": [
    {
     "name": "stdout",
     "output_type": "stream",
     "text": [
      "Olá deixa eu me apresentar!\n",
      "Nome: Jutair da Silva Rios\n",
      "Idade: 23 anos\n",
      "Emprego: Projetista Mecânico\n",
      "Local de Nascimento: Alvorada D'Oeste-RO\n"
     ]
    }
   ],
   "source": [
    "apresentacao = \"Olá deixa eu me apresentar!\"\n",
    "nome = \"Jutair\"\n",
    "sobrenome = \" da Silva Rios\"\n",
    "idade = 23\n",
    "ocupacao = \"Projetista Mecânico\"\n",
    "endereco = \"Parque Oziel\"\n",
    "local_de_nasimento = \"Alvorada D'Oeste-RO\"\n",
    "\n",
    "print(apresentacao)\n",
    "print(\"Nome:\", nome + sobrenome)\n",
    "print(\"Idade:\", idade , \"anos\")\n",
    "print(\"Emprego:\", ocupacao)\n",
    "print(\"Local de Nascimento:\", local_de_nasimento)\n",
    "\n"
   ]
  }
 ],
 "metadata": {
  "kernelspec": {
   "display_name": "Python 3.7.13 ('data_science')",
   "language": "python",
   "name": "python3"
  },
  "language_info": {
   "codemirror_mode": {
    "name": "ipython",
    "version": 3
   },
   "file_extension": ".py",
   "mimetype": "text/x-python",
   "name": "python",
   "nbconvert_exporter": "python",
   "pygments_lexer": "ipython3",
   "version": "3.7.13"
  },
  "orig_nbformat": 4,
  "vscode": {
   "interpreter": {
    "hash": "0637669d16c180765698e7095941fa969b1883b6ba8ebb8df7d83cb92d8b0c67"
   }
  }
 },
 "nbformat": 4,
 "nbformat_minor": 2
}
