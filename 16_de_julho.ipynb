{
 "cells": [
  {
   "cell_type": "code",
   "execution_count": 58,
   "id": "c94dbfd4",
   "metadata": {},
   "outputs": [
    {
     "name": "stdout",
     "output_type": "stream",
     "text": [
      "Resolver a equação do segundo grau\n",
      "Entre como valor de a:1\n",
      "Entre como valor de b:2\n",
      "Entre como valor de c:-3\n",
      "O valor de delta é: 16.0\n",
      "Valor de x1 é: 1.000\n",
      "Valor de x1 é: -3.000\n"
     ]
    }
   ],
   "source": [
    "print(\"Resolver a equação do segundo grau\")\n",
    "#ax²+bx+c=0.\n",
    "a = float(input(\"Entre como valor de a:\"))\n",
    "b = float(input(\"Entre como valor de b:\"))\n",
    "c = float(input(\"Entre como valor de c:\"))\n",
    "delta = b*b-4*a*c\n",
    "x1 = (-b+delta**(1/2))/(2*a)\n",
    "x2 = (-b-delta**(1/2))/(2*a)\n",
    "print(\"O valor de delta é:\", delta)\n",
    "print('Valor de x1 é: {:.3f}'.format(x1))\n",
    "print('Valor de x1 é: {:.3f}'.format(x2))"
   ]
  }
 ],
 "metadata": {
  "kernelspec": {
   "display_name": "Python 3 (ipykernel)",
   "language": "python",
   "name": "python3"
  },
  "language_info": {
   "codemirror_mode": {
    "name": "ipython",
    "version": 3
   },
   "file_extension": ".py",
   "mimetype": "text/x-python",
   "name": "python",
   "nbconvert_exporter": "python",
   "pygments_lexer": "ipython3",
   "version": "3.10.0"
  }
 },
 "nbformat": 4,
 "nbformat_minor": 5
}
