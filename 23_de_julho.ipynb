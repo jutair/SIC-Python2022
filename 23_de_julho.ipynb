{
 "cells": [
  {
   "cell_type": "code",
   "execution_count": 62,
   "metadata": {},
   "outputs": [
    {
     "name": "stdout",
     "output_type": "stream",
     "text": [
      "A lista dos números do intervalo de 1 a 0 é de:\n",
      "[0]\n",
      "<========================================================================>\n",
      "A lista dos números dos números impares de 1 a 0 é de:\n",
      "[]\n",
      "A soma dos números dos números impares de 1 a 0 é de: 0\n",
      "<========================================================================>\n",
      "A lista dos números dos números pares de 1 a 0 é de:\n",
      "[0]\n",
      "A soma dos números dos números impares de 1 a 0 é de: 2550\n"
     ]
    }
   ],
   "source": [
    "intervalo = 0\n",
    "lista_invervalo = []\n",
    "lista_pares =[]\n",
    "lista_impares =[]\n",
    "soma_impares = 0\n",
    "\n",
    "if type(intervalo) == int:  \n",
    "    lista_invervalo.append(1) \n",
    "    if intervalo == 0:\n",
    "        lista_invervalo = [0]\n",
    "        lista_impares = []\n",
    "        lista_pares= [0]\n",
    "        soma_impares = 0\n",
    "    if intervalo == 1:\n",
    "        lista_invervalo = [0, 1]\n",
    "        lista_impares = [1]\n",
    "        soma_impares = 1\n",
    "    else:\n",
    "               while (len(lista_invervalo)<intervalo): \n",
    "                if (intervalo == 0):\n",
    "                        lista_intervalo =[]\n",
    "                if (intervalo == 1):\n",
    "                        lista_intervalo =[1]\n",
    "                        soma_impares = 1\n",
    "                else:\n",
    "                        for i in range(intervalo -1):\n",
    "                                lista_invervalo.append(lista_invervalo[-1] + 1)\n",
    "                                lista_impares = [lista_impares for lista_impares in lista_invervalo if lista_impares%2]\n",
    "                                lista_pares = [lista_pares for lista_pares in lista_invervalo if lista_pares%2 ==0] \n",
    "                                soma_impares = sum(lista_impares)\n",
    "                                soma_pares = sum(lista_pares)              \n",
    "    print(\"A lista dos números do intervalo de 1 a\", intervalo, \"é de:\")\n",
    "    print(lista_invervalo)\n",
    "    print(\"<========================================================================>\")\n",
    "    print(\"A lista dos números dos números impares de 1 a\", intervalo, \"é de:\")\n",
    "    print(lista_impares)\n",
    "    print(\"A soma dos números dos números impares de 1 a\", intervalo, \"é de:\", soma_impares)\n",
    "    print(\"<========================================================================>\")\n",
    "    print(\"A lista dos números dos números pares de 1 a\", intervalo, \"é de:\")\n",
    "    print(lista_pares)\n",
    "    print(\"A soma dos números dos números impares de 1 a\", intervalo, \"é de:\", soma_pares)\n",
    "else:\n",
    "    print(\"Entrada inválida, favor inserir números inteiros!\")\n"
   ]
  },
  {
   "cell_type": "code",
   "execution_count": 1,
   "metadata": {},
   "outputs": [
    {
     "name": "stdout",
     "output_type": "stream",
     "text": [
      "Nome: Jutair da Silva Rios\n",
      "Idade: 29 anos\n",
      "Emprego: Projetista Mecânico\n",
      "Local de Nascimento: Alvorada D'Oeste\n"
     ]
    }
   ],
   "source": [
    "nome = str(input(\"Digite o seu nome:\"))\n",
    "idade = int(input(\"Digite a sua idade:\"))\n",
    "ocupacao = str(input(\"Digite com a sua profissão:\"))\n",
    "endereco = str(input(\"Entre com o seu endereço:\"))\n",
    "local_de_nasimento = str(input(\"Entre com o seu local de nascimento:\"))\n",
    "\n",
    "print(\"Nome:\", nome)\n",
    "print(\"Idade:\", idade , \"anos\")\n",
    "print(\"Emprego:\", ocupacao)\n",
    "print(\"Local de Nascimento:\", local_de_nasimento)"
   ]
  }
 ],
 "metadata": {
  "kernelspec": {
   "display_name": "Python 3.10.0 64-bit",
   "language": "python",
   "name": "python3"
  },
  "language_info": {
   "codemirror_mode": {
    "name": "ipython",
    "version": 3
   },
   "file_extension": ".py",
   "mimetype": "text/x-python",
   "name": "python",
   "nbconvert_exporter": "python",
   "pygments_lexer": "ipython3",
   "version": "3.10.0"
  },
  "orig_nbformat": 4,
  "vscode": {
   "interpreter": {
    "hash": "d3d627b1663e817df90754fa5a61354e04a94eb3bc4a6f5564d3f42a0d80b921"
   }
  }
 },
 "nbformat": 4,
 "nbformat_minor": 2
}
