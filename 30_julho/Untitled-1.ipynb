{
 "cells": [
  {
   "cell_type": "markdown",
   "metadata": {},
   "source": [
    "Você é maior de idade? (digite 1 se sim, 0 se não): 1\n",
    "Você é casado(a)? (digite 1 se sim, 0 se não): 0\n",
    "Você é maior de idade e solteiro."
   ]
  },
  {
   "cell_type": "code",
   "execution_count": 9,
   "metadata": {},
   "outputs": [
    {
     "name": "stdout",
     "output_type": "stream",
     "text": [
      "Você é maior e é casado e está fu***!\n"
     ]
    }
   ],
   "source": [
    "idade = int(input(\"Você é maior de idade? (digite 1 se sim, 0 se não)\"))\n",
    "relacionamento = int(input(\"Você é casado(a)? (digite 1 se sim, 0 se não):\"))\n",
    "if idade == 0:\n",
    "    maioridade = \"menor\"\n",
    "if idade == 1:\n",
    "    maioridade = \"maior\"\n",
    "if relacionamento == 0:\n",
    "    status = \"solteiro.\"\n",
    "    status2= \"e  continue assim\"\n",
    "if relacionamento == 1:\n",
    "    status = \"casado\"\n",
    "    status2 = \"e está fu***!\"\n",
    "print(\"Você é\", maioridade,\"e é\", status, status2)\n"
   ]
  },
  {
   "cell_type": "markdown",
   "metadata": {},
   "source": [
    "Entre os números naturais positivos diferentes de 1, um número que não é primo é chamado de número composto. Imprima os números primos e compostos de 2 a 12"
   ]
  },
  {
   "cell_type": "code",
   "execution_count": 10,
   "metadata": {},
   "outputs": [],
   "source": [
    "lista_primos =[]\n",
    "lista_compostos= []\n",
    "for i in range (2, 998):\n",
    "      n = i\n",
    "      total= 0\n",
    "      for i in range(1, n+1): \n",
    "        if n %i ==0:\n",
    "          total += 1\n",
    "      if total ==2:\n",
    "          lista_primos.append(n)\n",
    "          #print(n, \"É primo!\")\n",
    "      else:\n",
    "          #print(n, \"É composto!\")\n",
    "          lista_compostos.append(n)\n"
   ]
  },
  {
   "cell_type": "code",
   "execution_count": 11,
   "metadata": {},
   "outputs": [],
   "source": [
    "def primo(n):\n",
    "    '''\n",
    "    Crie uma função que recebe um número inteiro n e retorna True se ele é primo e False caso contrário\n",
    "    Test\n",
    "    -----------\n",
    "    >>> primo(7)\n",
    "    True\n",
    "    >>> primo(8)\n",
    "    False\n",
    "    '''\n",
    "    resultado = False\n",
    "    ### Seu código inicia aqui ###\t\n",
    "    total= 0\n",
    "    for i in range(1, n+1): \n",
    "        if n %i ==0:\n",
    "         total += 1\n",
    "    if total ==2:\n",
    "          resultado = True\n",
    "    else:\n",
    "        resultado = False\n",
    "    ### Seu código termina aqui ###\n",
    "    return resultado"
   ]
  },
  {
   "cell_type": "code",
   "execution_count": 12,
   "metadata": {},
   "outputs": [],
   "source": [
    "def constroiMatriz1():\n",
    "    matriz = []\n",
    "    for i in range(14):\n",
    "        linha = []\n",
    "        for j in range(12):\n",
    "            list.append(linha,0)\n",
    "        matriz = matriz + [linha]\n",
    "    return matriz"
   ]
  },
  {
   "cell_type": "code",
   "execution_count": 13,
   "metadata": {},
   "outputs": [
    {
     "name": "stdout",
     "output_type": "stream",
     "text": [
      "O valor inserido foi de: 153\n",
      "A o cubo de ['1', '5', '3'] é de: [1, 125, 27]\n",
      "A soma de [1, 125, 27] é de: 153\n",
      "Portanto é um número armstrong!\n"
     ]
    }
   ],
   "source": [
    "valor =153\n",
    "entrada = str(valor)\n",
    "pot = int(len(entrada))\n",
    "add_pot = []\n",
    "soma_cubo = 0\n",
    "\n",
    "#Extrair as strings e inserir na lista\n",
    "lista_valor = []\n",
    "for i in range (pot):\n",
    "    lista_valor.append(entrada[i])\n",
    "    for k in range (pot):\n",
    "        entrada_int = int(entrada[i])\n",
    "    add_pot.append(entrada_int**pot)\n",
    "#print(add_pot)\n",
    "soma_cubo = sum(add_pot)\n",
    "#print(soma_cubo)\n",
    "if soma_cubo == valor:\n",
    "    print(\"O valor inserido foi de:\",valor)\n",
    "    print(\"A o cubo de\", lista_valor, \"é de:\", add_pot)\n",
    "    print(\"A soma de\", add_pot, \"é de:\", soma_cubo)\n",
    "    print(\"Portanto é um número armstrong!\")\n",
    "else:\n",
    "    print(\"O valor inserido foi de:\", valor)\n",
    "    print(\"A o cubo de\", lista_valor, \"é\", add_pot)\n",
    "    print(\"A soma de:\", add_pot, \"é de:\", soma_cubo)\n",
    "    print(\"Portanto não é um número armstrong!\")"
   ]
  },
  {
   "cell_type": "code",
   "execution_count": 14,
   "metadata": {},
   "outputs": [],
   "source": [
    "def e_armstrong(valor):\n",
    "    entrada = str(valor)\n",
    "    pot = int(len(entrada))\n",
    "    add_pot = []\n",
    "    soma_cubo = 0\n",
    "\n",
    "#Extrair as strings e inserir na lista\n",
    "    lista_valor = []\n",
    "    for i in range (pot):\n",
    "        lista_valor.append(entrada[i])\n",
    "        for k in range (pot):\n",
    "            entrada_int = int(entrada[i])\n",
    "        add_pot.append(entrada_int**pot)\n",
    "#print(add_pot)\n",
    "    soma_cubo = sum(add_pot)\n",
    "#print(soma_cubo)\n",
    "    if soma_cubo == valor:\n",
    "        print(\"O valor inserido foi de:\",valor)\n",
    "        print(\"A o cubo de\", lista_valor, \"é de:\", add_pot)\n",
    "        print(\"A soma de\", add_pot, \"é de:\", soma_cubo)\n",
    "        print(\"Portanto é um número armstrong!\")\n",
    "    else:\n",
    "        print(\"O valor inserido foi de:\", valor)\n",
    "        print(\"A o cubo de\", lista_valor, \"é\", add_pot)\n",
    "        print(\"A soma de:\", add_pot, \"é de:\", soma_cubo)\n",
    "        print(\"Portanto não é um número armstrong!\")\n",
    "    return "
   ]
  },
  {
   "cell_type": "code",
   "execution_count": 28,
   "metadata": {},
   "outputs": [
    {
     "name": "stdout",
     "output_type": "stream",
     "text": [
      "O valor inserido foi de: 153\n",
      "A o cubo de ['1', '5', '3'] é de: [1, 125, 27]\n",
      "A soma de [1, 125, 27] é de: 153\n",
      "Portanto é um número armstrong!\n"
     ]
    }
   ],
   "source": [
    "e_armstrong(153)"
   ]
  },
  {
   "cell_type": "code",
   "execution_count": 21,
   "metadata": {},
   "outputs": [],
   "source": [
    "def gera_armstrong(inicio,fim):\n",
    "    lista_armstrong = []\n",
    "    for i in range (inicio,fim):\n",
    "        valor = i\n",
    "        entrada = str(valor)\n",
    "        pot = int(len(entrada))\n",
    "        add_pot = []\n",
    "        soma_cubo = 0\n",
    "        lista_valor = []\n",
    "        for j in range (pot):\n",
    "            lista_valor.append(entrada[j])\n",
    "            for k in range (pot):\n",
    "                entrada_int = int(entrada[j])\n",
    "            add_pot.append(entrada_int**pot)\n",
    "        soma_cubo = sum(add_pot)\n",
    "        if soma_cubo == valor:\n",
    "            lista_armstrong.append(soma_cubo)\n",
    "    return lista_armstrong"
   ]
  },
  {
   "cell_type": "code",
   "execution_count": 30,
   "metadata": {},
   "outputs": [
    {
     "data": {
      "text/plain": [
       "[153, 370, 371, 407]"
      ]
     },
     "execution_count": 30,
     "metadata": {},
     "output_type": "execute_result"
    }
   ],
   "source": [
    "gera_armstrong(100,999)"
   ]
  }
 ],
 "metadata": {
  "kernelspec": {
   "display_name": "Python 3.8.13 ('python_work')",
   "language": "python",
   "name": "python3"
  },
  "language_info": {
   "codemirror_mode": {
    "name": "ipython",
    "version": 3
   },
   "file_extension": ".py",
   "mimetype": "text/x-python",
   "name": "python",
   "nbconvert_exporter": "python",
   "pygments_lexer": "ipython3",
   "version": "3.8.13"
  },
  "orig_nbformat": 4,
  "vscode": {
   "interpreter": {
    "hash": "770706c425149f1d2673c40225317b1cf42aa97ad320363cee3c19a2eed69d15"
   }
  }
 },
 "nbformat": 4,
 "nbformat_minor": 2
}
